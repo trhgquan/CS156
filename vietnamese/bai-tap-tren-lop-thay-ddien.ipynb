{
 "cells": [
  {
   "cell_type": "code",
   "execution_count": 24,
   "id": "d575f99f",
   "metadata": {},
   "outputs": [],
   "source": [
    "import pandas as pd\n",
    "from underthesea import word_tokenize\n",
    "       "
   ]
  },
  {
   "cell_type": "code",
   "execution_count": 38,
   "id": "f31ee56b",
   "metadata": {},
   "outputs": [],
   "source": [
    "# Importing vietnamese dictionary\n",
    "\n",
    "vn_dictionary = pd.read_csv('VDic_uni.txt', \n",
    "                            sep = '\\t\\t', \n",
    "                            encoding = 'utf-8', \n",
    "                            engine = 'python')"
   ]
  },
  {
   "cell_type": "code",
   "execution_count": 62,
   "id": "68dd4124",
   "metadata": {},
   "outputs": [
    {
     "name": "stdout",
     "output_type": "stream",
     "text": [
      "['cháu', 'vẽ', 'ông', 'mặt trời', ',', 'miệng', 'ông', 'cười', 'thật', 'tươi']\n"
     ]
    },
    {
     "data": {
      "text/plain": [
       "True"
      ]
     },
     "execution_count": 62,
     "metadata": {},
     "output_type": "execute_result"
    }
   ],
   "source": [
    "sentence = 'cháu vẽ ông mặt trời, miệng ông cười thật tươi'\n",
    "\n",
    "def word_validation(sentence):\n",
    "    tokens = word_tokenize(sentence)\n",
    "    print(tokens)\n",
    "    \n",
    "    for token in tokens:\n",
    "        if not vn_dictionary['a'].str.contains(token).any():\n",
    "            print(token.lower(), 'is not inside dictionary')\n",
    "            return False\n",
    "        \n",
    "    return True\n",
    "\n",
    "word_validation(sentence)"
   ]
  },
  {
   "cell_type": "code",
   "execution_count": null,
   "id": "1254f881",
   "metadata": {},
   "outputs": [],
   "source": []
  }
 ],
 "metadata": {
  "kernelspec": {
   "display_name": "Python 3 (ipykernel)",
   "language": "python",
   "name": "python3"
  },
  "language_info": {
   "codemirror_mode": {
    "name": "ipython",
    "version": 3
   },
   "file_extension": ".py",
   "mimetype": "text/x-python",
   "name": "python",
   "nbconvert_exporter": "python",
   "pygments_lexer": "ipython3",
   "version": "3.9.7"
  }
 },
 "nbformat": 4,
 "nbformat_minor": 5
}
