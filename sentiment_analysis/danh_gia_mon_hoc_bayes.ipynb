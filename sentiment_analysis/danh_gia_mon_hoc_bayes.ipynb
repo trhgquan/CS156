{
  "nbformat": 4,
  "nbformat_minor": 0,
  "metadata": {
    "colab": {
      "name": "danh_gia_mon_hoc_bayes.ipynb",
      "provenance": [],
      "collapsed_sections": [],
      "include_colab_link": true
    },
    "kernelspec": {
      "name": "python3",
      "display_name": "Python 3"
    },
    "language_info": {
      "name": "python"
    }
  },
  "cells": [
    {
      "cell_type": "markdown",
      "metadata": {
        "id": "view-in-github",
        "colab_type": "text"
      },
      "source": [
        "<a href=\"https://colab.research.google.com/github/trhgquan/CS156/blob/main/sentiment_analysis/danh_gia_mon_hoc_bayes.ipynb\" target=\"_parent\"><img src=\"https://colab.research.google.com/assets/colab-badge.svg\" alt=\"Open In Colab\"/></a>"
      ]
    },
    {
      "cell_type": "code",
      "metadata": {
        "colab": {
          "base_uri": "https://localhost:8080/"
        },
        "id": "-XRp_or1fGOJ",
        "outputId": "8dd6ef30-8469-48f3-bd6c-d80434417022"
      },
      "source": [
        "from google.colab import drive\n",
        "drive.mount('/content/drive')"
      ],
      "execution_count": 1,
      "outputs": [
        {
          "output_type": "stream",
          "name": "stdout",
          "text": [
            "Drive already mounted at /content/drive; to attempt to forcibly remount, call drive.mount(\"/content/drive\", force_remount=True).\n"
          ]
        }
      ]
    },
    {
      "cell_type": "markdown",
      "metadata": {
        "id": "h3Zg4jGJIlw_"
      },
      "source": [
        "## Importing libraries"
      ]
    },
    {
      "cell_type": "code",
      "metadata": {
        "id": "45QRYPddOd4k",
        "colab": {
          "base_uri": "https://localhost:8080/"
        },
        "outputId": "a6e7f7ca-7581-4a3f-c916-c7bc3bccf6d1"
      },
      "source": [
        "!pip install underthesea\n",
        "!pip install imbalanced-learn"
      ],
      "execution_count": 45,
      "outputs": [
        {
          "output_type": "stream",
          "name": "stdout",
          "text": [
            "Requirement already satisfied: underthesea in /usr/local/lib/python3.7/dist-packages (1.3.3)\n",
            "Requirement already satisfied: joblib in /usr/local/lib/python3.7/dist-packages (from underthesea) (1.1.0)\n",
            "Requirement already satisfied: PyYAML in /usr/local/lib/python3.7/dist-packages (from underthesea) (6.0)\n",
            "Requirement already satisfied: nltk in /usr/local/lib/python3.7/dist-packages (from underthesea) (3.2.5)\n",
            "Requirement already satisfied: unidecode in /usr/local/lib/python3.7/dist-packages (from underthesea) (1.3.2)\n",
            "Requirement already satisfied: Click>=6.0 in /usr/local/lib/python3.7/dist-packages (from underthesea) (7.1.2)\n",
            "Requirement already satisfied: python-crfsuite>=0.9.6 in /usr/local/lib/python3.7/dist-packages (from underthesea) (0.9.7)\n",
            "Requirement already satisfied: requests in /usr/local/lib/python3.7/dist-packages (from underthesea) (2.23.0)\n",
            "Requirement already satisfied: scikit-learn in /usr/local/lib/python3.7/dist-packages (from underthesea) (1.0.1)\n",
            "Requirement already satisfied: seqeval in /usr/local/lib/python3.7/dist-packages (from underthesea) (1.2.2)\n",
            "Requirement already satisfied: torch>=1.1.0 in /usr/local/lib/python3.7/dist-packages (from underthesea) (1.10.0+cu111)\n",
            "Requirement already satisfied: transformers>=3.5.0 in /usr/local/lib/python3.7/dist-packages (from underthesea) (4.12.5)\n",
            "Requirement already satisfied: tqdm in /usr/local/lib/python3.7/dist-packages (from underthesea) (4.62.3)\n",
            "Requirement already satisfied: typing-extensions in /usr/local/lib/python3.7/dist-packages (from torch>=1.1.0->underthesea) (3.10.0.2)\n",
            "Requirement already satisfied: huggingface-hub<1.0,>=0.1.0 in /usr/local/lib/python3.7/dist-packages (from transformers>=3.5.0->underthesea) (0.1.2)\n",
            "Requirement already satisfied: packaging>=20.0 in /usr/local/lib/python3.7/dist-packages (from transformers>=3.5.0->underthesea) (21.2)\n",
            "Requirement already satisfied: sacremoses in /usr/local/lib/python3.7/dist-packages (from transformers>=3.5.0->underthesea) (0.0.46)\n",
            "Requirement already satisfied: tokenizers<0.11,>=0.10.1 in /usr/local/lib/python3.7/dist-packages (from transformers>=3.5.0->underthesea) (0.10.3)\n",
            "Requirement already satisfied: importlib-metadata in /usr/local/lib/python3.7/dist-packages (from transformers>=3.5.0->underthesea) (4.8.2)\n",
            "Requirement already satisfied: numpy>=1.17 in /usr/local/lib/python3.7/dist-packages (from transformers>=3.5.0->underthesea) (1.19.5)\n",
            "Requirement already satisfied: filelock in /usr/local/lib/python3.7/dist-packages (from transformers>=3.5.0->underthesea) (3.3.2)\n",
            "Requirement already satisfied: regex!=2019.12.17 in /usr/local/lib/python3.7/dist-packages (from transformers>=3.5.0->underthesea) (2019.12.20)\n",
            "Requirement already satisfied: pyparsing<3,>=2.0.2 in /usr/local/lib/python3.7/dist-packages (from packaging>=20.0->transformers>=3.5.0->underthesea) (2.4.7)\n",
            "Requirement already satisfied: zipp>=0.5 in /usr/local/lib/python3.7/dist-packages (from importlib-metadata->transformers>=3.5.0->underthesea) (3.6.0)\n",
            "Requirement already satisfied: six in /usr/local/lib/python3.7/dist-packages (from nltk->underthesea) (1.15.0)\n",
            "Requirement already satisfied: certifi>=2017.4.17 in /usr/local/lib/python3.7/dist-packages (from requests->underthesea) (2021.10.8)\n",
            "Requirement already satisfied: idna<3,>=2.5 in /usr/local/lib/python3.7/dist-packages (from requests->underthesea) (2.10)\n",
            "Requirement already satisfied: urllib3!=1.25.0,!=1.25.1,<1.26,>=1.21.1 in /usr/local/lib/python3.7/dist-packages (from requests->underthesea) (1.24.3)\n",
            "Requirement already satisfied: chardet<4,>=3.0.2 in /usr/local/lib/python3.7/dist-packages (from requests->underthesea) (3.0.4)\n",
            "Requirement already satisfied: threadpoolctl>=2.0.0 in /usr/local/lib/python3.7/dist-packages (from scikit-learn->underthesea) (3.0.0)\n",
            "Requirement already satisfied: scipy>=1.1.0 in /usr/local/lib/python3.7/dist-packages (from scikit-learn->underthesea) (1.4.1)\n",
            "Requirement already satisfied: imbalanced-learn in /usr/local/lib/python3.7/dist-packages (0.8.1)\n",
            "Requirement already satisfied: joblib>=0.11 in /usr/local/lib/python3.7/dist-packages (from imbalanced-learn) (1.1.0)\n",
            "Requirement already satisfied: scikit-learn>=0.24 in /usr/local/lib/python3.7/dist-packages (from imbalanced-learn) (1.0.1)\n",
            "Requirement already satisfied: scipy>=0.19.1 in /usr/local/lib/python3.7/dist-packages (from imbalanced-learn) (1.4.1)\n",
            "Requirement already satisfied: numpy>=1.13.3 in /usr/local/lib/python3.7/dist-packages (from imbalanced-learn) (1.19.5)\n",
            "Requirement already satisfied: threadpoolctl>=2.0.0 in /usr/local/lib/python3.7/dist-packages (from scikit-learn>=0.24->imbalanced-learn) (3.0.0)\n"
          ]
        }
      ]
    },
    {
      "cell_type": "code",
      "metadata": {
        "id": "ViM68CaDHvgv"
      },
      "source": [
        "import pandas as pd\n",
        "import zipfile\n",
        "import numpy as np\n",
        "import matplotlib.pyplot as plt\n",
        "\n",
        "from underthesea import word_tokenize\n",
        "from sklearn.naive_bayes import MultinomialNB\n",
        "from sklearn.feature_extraction.text import CountVectorizer\n",
        "from imblearn.over_sampling import RandomOverSampler"
      ],
      "execution_count": 51,
      "outputs": []
    },
    {
      "cell_type": "markdown",
      "metadata": {
        "id": "1Xebt1b-IpNd"
      },
      "source": [
        "## Extracting and creating dataset"
      ]
    },
    {
      "cell_type": "code",
      "metadata": {
        "id": "_jcJtCxJIAZe"
      },
      "source": [
        "!cp \"/content/drive/MyDrive/Colab Notebooks/danh_gia_mon_hoc_rating/UIT-VSFC.zip\" \"/content/UIT-VSFC.zip\"\n",
        "!cp \"/content/drive/MyDrive/Colab Notebooks/danh_gia_mon_hoc_rating/stopwords.txt\" \"/content/stopwords.txt\"\n",
        "\n",
        "def extracting_file():\n",
        "    with zipfile.ZipFile('/content/UIT-VSFC.zip', 'r') as zfile:\n",
        "        zfile.extractall('/content/data')\n",
        "\n",
        "extracting_file()"
      ],
      "execution_count": 4,
      "outputs": []
    },
    {
      "cell_type": "code",
      "metadata": {
        "colab": {
          "base_uri": "https://localhost:8080/"
        },
        "id": "YogWTmdRrIuh",
        "outputId": "099995a6-364c-4622-aa9f-10730d4800c0"
      },
      "source": [
        "stopwords = []\n",
        "\n",
        "with open('stopwords.txt', 'r+', encoding='utf-8') as f:\n",
        "    for line in f:\n",
        "        stopwords.append(line.strip())\n",
        "\n",
        "print(len(stopwords))"
      ],
      "execution_count": 5,
      "outputs": [
        {
          "output_type": "stream",
          "name": "stdout",
          "text": [
            "1942\n"
          ]
        }
      ]
    },
    {
      "cell_type": "code",
      "metadata": {
        "id": "OwQl74HXyZHX"
      },
      "source": [
        "def create_frame(sentences, labels):\n",
        "    result = {\n",
        "        'sentences': sentences,\n",
        "        'labels': labels\n",
        "    }\n",
        "    return pd.DataFrame(result)"
      ],
      "execution_count": 23,
      "outputs": []
    },
    {
      "cell_type": "code",
      "metadata": {
        "id": "O_f_hHOqjmgj"
      },
      "source": [
        "def preprocess(sentence):\n",
        "    sentence = sentence.strip()\n",
        "    sentence = sentence.replace(',', '')\n",
        "    sentence = sentence.replace('.', '')\n",
        "    sentence = sentence.replace('?', '')\n",
        "    sentence = sentence.replace('!', '')\n",
        "    sentence = sentence.replace('  ', ' ')\n",
        "    return sentence.lower().strip()"
      ],
      "execution_count": 7,
      "outputs": []
    },
    {
      "cell_type": "code",
      "metadata": {
        "id": "T3ArLBGgtb6R"
      },
      "source": [
        "def tokenize(sentence):\n",
        "    return word_tokenize(sentence, format = 'word')"
      ],
      "execution_count": 8,
      "outputs": []
    },
    {
      "cell_type": "code",
      "metadata": {
        "colab": {
          "base_uri": "https://localhost:8080/"
        },
        "id": "2NabcjLwi1JZ",
        "outputId": "67b95bda-c723-4c6c-f91d-c9bcbd1e0acf"
      },
      "source": [
        "train_sentences, train_labels = [], []\n",
        "\n",
        "with open('/content/data/UIT-VSFC/train/sents.txt', 'r+', encoding = 'utf-8') as f:\n",
        "    for line in f:\n",
        "        train_sentences.append(preprocess(line))\n",
        "\n",
        "with open('/content/data/UIT-VSFC/train/sentiments.txt', 'r+', encoding = 'utf-8') as f:\n",
        "    for line in f:\n",
        "        train_labels.append(int(line.strip()))"
      ],
      "execution_count": 25,
      "outputs": [
        {
          "output_type": "execute_result",
          "data": {
            "text/plain": [
              "2    5643\n",
              "0    5325\n",
              "1     458\n",
              "Name: labels, dtype: int64"
            ]
          },
          "metadata": {},
          "execution_count": 25
        }
      ]
    },
    {
      "cell_type": "code",
      "metadata": {
        "colab": {
          "base_uri": "https://localhost:8080/",
          "height": 276
        },
        "id": "ZzmulSPo-ykG",
        "outputId": "e4f52154-ad5c-4b3b-c64c-4cfc9c440551"
      },
      "source": [
        "train_dataset = create_frame(train_sentences, train_labels)\n",
        "count = train_dataset['labels'].value_counts()\n",
        "count.plot.bar()\n",
        "plt.ylabel('Label')\n",
        "plt.xlabel('Total samples')\n",
        "plt.show()"
      ],
      "execution_count": 43,
      "outputs": [
        {
          "output_type": "display_data",
          "data": {
            "image/png": "[encoded data removed]",
            "text/plain": [
              "<Figure size 432x288 with 1 Axes>"
            ]
          },
          "metadata": {
            "needs_background": "light"
          }
        }
      ]
    },
    {
      "cell_type": "code",
      "metadata": {
        "id": "4fTMrxITkHqU"
      },
      "source": [
        "test_sentences, test_labels = [], []\n",
        "\n",
        "with open('/content/data/UIT-VSFC/test/sents.txt', 'r+', encoding = 'utf-8') as f:\n",
        "    for line in f:\n",
        "        test_sentences.append(preprocess(line))\n",
        "\n",
        "with open('/content/data/UIT-VSFC/test/sentiments.txt', 'r+', encoding = 'utf-8') as f:\n",
        "    for line in f:\n",
        "        test_labels.append(int(line.strip()))\n"
      ],
      "execution_count": 26,
      "outputs": []
    },
    {
      "cell_type": "code",
      "metadata": {
        "colab": {
          "base_uri": "https://localhost:8080/",
          "height": 276
        },
        "id": "l4RvRHvY-4Ky",
        "outputId": "97d692b3-7f56-46a4-e87a-78784f079529"
      },
      "source": [
        "test_dataset = create_frame(test_sentences, test_labels)\n",
        "test_dataset['labels'].value_counts()\n",
        "count = train_dataset['labels'].value_counts()\n",
        "count.plot.bar()\n",
        "plt.ylabel('Label')\n",
        "plt.xlabel('Total samples')\n",
        "plt.show()\n"
      ],
      "execution_count": 44,
      "outputs": [
        {
          "output_type": "display_data",
          "data": {
            "image/png": "[encoded data removed]",
            "text/plain": [
              "<Figure size 432x288 with 1 Axes>"
            ]
          },
          "metadata": {
            "needs_background": "light"
          }
        }
      ]
    },
    {
      "cell_type": "code",
      "metadata": {
        "id": "2ljwCzJ0y7RC"
      },
      "source": [
        "dev_sentences, dev_labels = [], []\n",
        "\n",
        "with open('/content/data/UIT-VSFC/test/sents.txt', 'r+', encoding = 'utf-8') as f:\n",
        "    for line in f:\n",
        "        dev_sentences.append(preprocess(line))\n",
        "\n",
        "with open('/content/data/UIT-VSFC/test/sentiments.txt', 'r+', encoding = 'utf-8') as f:\n",
        "    for line in f:\n",
        "        dev_labels.append(int(line.strip()))\n",
        "\n",
        "# dev_dataset = create_frame(dev_sentences, dev_labels)"
      ],
      "execution_count": 11,
      "outputs": []
    },
    {
      "cell_type": "code",
      "metadata": {
        "id": "Ki9AojQvBeXh"
      },
      "source": [
        "oversample = RandomOverSampler(sampling_strategy = 'minority')"
      ],
      "execution_count": 52,
      "outputs": []
    },
    {
      "cell_type": "code",
      "metadata": {
        "id": "-MAq8HYxxu6h"
      },
      "source": [
        "vectorizer = CountVectorizer(\n",
        "    stop_words = stopwords,\n",
        "    tokenizer = tokenize\n",
        ")"
      ],
      "execution_count": 53,
      "outputs": []
    },
    {
      "cell_type": "code",
      "metadata": {
        "colab": {
          "base_uri": "https://localhost:8080/"
        },
        "id": "4b8Afabq0FBY",
        "outputId": "50d24deb-9561-43dc-dae5-c91b61161cc2"
      },
      "source": [
        "X = vectorizer.fit_transform(train_sentences)\n",
        "y = train_labels\n",
        "\n",
        "X_over, y_over = oversample.fit_resample(X, y)\n",
        "\n",
        "X_test = vectorizer.transform(test_sentences)\n",
        "y_test = test_labels\n",
        "\n",
        "model = MultinomialNB()\n",
        "model.fit(X_over, y_over)\n"
      ],
      "execution_count": 55,
      "outputs": [
        {
          "output_type": "execute_result",
          "data": {
            "text/plain": [
              "MultinomialNB()"
            ]
          },
          "metadata": {},
          "execution_count": 55
        }
      ]
    },
    {
      "cell_type": "code",
      "metadata": {
        "colab": {
          "base_uri": "https://localhost:8080/"
        },
        "id": "8FRyy_X-1BPF",
        "outputId": "8164841a-2acd-4012-d1d6-a01eea9f380d"
      },
      "source": [
        "print(model.score(X_test, y_test))"
      ],
      "execution_count": 76,
      "outputs": [
        {
          "output_type": "stream",
          "name": "stdout",
          "text": [
            "0.7504737839545167\n"
          ]
        }
      ]
    },
    {
      "cell_type": "code",
      "metadata": {
        "colab": {
          "base_uri": "https://localhost:8080/"
        },
        "id": "3cib-jfJ1Fvo",
        "outputId": "a1420187-e374-43cf-fe04-8c292b2c536d"
      },
      "source": [
        "sentences = [\n",
        "    'thầy dạy rất hay',\n",
        "    'không ai hướng dẫn, toàn phải tự lực cánh sinh',\n",
        "    'thầy toàn đọc slide, không giảng bài',\n",
        "    'phí tiền khi học lớp này',\n",
        "    'học phí quá cao, cô lại dạy dở, không ai hỗ trợ',\n",
        "    'trợ giảng rất nhiệt tình',\n",
        "    'thầy giảng hay, nhưng bài tập rất khó'\n",
        "]\n",
        "\n",
        "for s in sentences:\n",
        "    predict_ = model.predict(vectorizer.transform([preprocess(s)]))\n",
        "    \n",
        "    labels = ['NEGATIVE', 'NEUTRAL', 'POSITIVE']\n",
        "    print(s, labels[predict_[0]])"
      ],
      "execution_count": 86,
      "outputs": [
        {
          "output_type": "stream",
          "name": "stdout",
          "text": [
            "thầy dạy rất hay POSITIVE\n",
            "không ai hướng dẫn, toàn phải tự lực cánh sinh NEGATIVE\n",
            "thầy toàn đọc slide, không giảng bài NEGATIVE\n",
            "phí tiền khi học lớp này NEGATIVE\n",
            "học phí quá cao, cô lại dạy dở, không ai hỗ trợ NEGATIVE\n",
            "trợ giảng rất nhiệt tình POSITIVE\n",
            "thầy giảng hay, nhưng bài tập rất khó POSITIVE\n"
          ]
        }
      ]
    }
  ]
}