{
 "cells": [
  {
   "cell_type": "markdown",
   "metadata": {
    "colab_type": "text",
    "id": "view-in-github"
   },
   "source": [
    "<a href=\"https://colab.research.google.com/github/trhgquan/CS156/blob/main/sentiment-analysis/danh_gia_mon_hoc_bayes.ipynb\" target=\"_parent\"><img src=\"https://colab.research.google.com/assets/colab-badge.svg\" alt=\"Open In Colab\"/></a>"
   ]
  },
  {
   "cell_type": "markdown",
   "metadata": {
    "id": "EMTwNxPLkzyb"
   },
   "source": [
    "# Thông tin\n",
    "Sinh viên thực hiện: Trần Hoàng Quân\n",
    "\n",
    "MSSV: 19120338\n",
    "\n",
    "GitHub: [@trhgquan](https://github.com/trhgquan)"
   ]
  },
  {
   "cell_type": "markdown",
   "metadata": {
    "id": "h3Zg4jGJIlw_"
   },
   "source": [
    "# Ý tưởng\n",
    "\n",
    "Em sẽ tiếp cận bài toán thông qua hướng text classification, dùng giải thuật Naive Bayes.\n",
    "\n",
    "# Cài đặt các thư viện liên quan\n",
    "\n",
    "Một số thư viện em sẽ sử dụng trong bài tập này bao gồm:\n",
    "- underthesea của nhóm undertheseanlp, dùng để tách từ tiếng Việt từ một câu (word_tokenize).\n",
    "- imbalanced-learn, dùng để xử lý dataset mất cân bằng."
   ]
  },
  {
   "cell_type": "code",
   "execution_count": 26,
   "metadata": {
    "colab": {
     "base_uri": "https://localhost:8080/"
    },
    "id": "45QRYPddOd4k",
    "outputId": "65780d7e-9f35-4ba6-a506-f520b8a0a2a3"
   },
   "outputs": [
    {
     "name": "stdout",
     "output_type": "stream",
     "text": [
      "Requirement already satisfied: underthesea in d:\\software\\python\\lib\\site-packages (1.3.3)\n",
      "Requirement already satisfied: nltk in d:\\software\\python\\lib\\site-packages (from underthesea) (3.6.3)\n",
      "Requirement already satisfied: Click>=6.0 in d:\\software\\python\\lib\\site-packages (from underthesea) (8.0.2)\n",
      "Requirement already satisfied: python-crfsuite>=0.9.6 in d:\\software\\python\\lib\\site-packages (from underthesea) (0.9.7)\n",
      "Requirement already satisfied: transformers>=3.5.0 in d:\\software\\python\\lib\\site-packages (from underthesea) (4.11.3)\n",
      "Requirement already satisfied: joblib in d:\\software\\python\\lib\\site-packages (from underthesea) (1.1.0)\n",
      "Requirement already satisfied: scikit-learn in d:\\software\\python\\lib\\site-packages (from underthesea) (1.0)\n",
      "Requirement already satisfied: seqeval in d:\\software\\python\\lib\\site-packages (from underthesea) (1.2.2)\n",
      "Requirement already satisfied: torch>=1.1.0 in d:\\software\\python\\lib\\site-packages (from underthesea) (1.9.1)\n",
      "Requirement already satisfied: PyYAML in d:\\software\\python\\lib\\site-packages (from underthesea) (6.0)\n",
      "Requirement already satisfied: requests in d:\\software\\python\\lib\\site-packages (from underthesea) (2.26.0)\n",
      "Requirement already satisfied: tqdm in d:\\software\\python\\lib\\site-packages (from underthesea) (4.62.3)\n",
      "Requirement already satisfied: unidecode in d:\\software\\python\\lib\\site-packages (from underthesea) (1.3.2)\n",
      "Requirement already satisfied: colorama in d:\\software\\python\\lib\\site-packages (from Click>=6.0->underthesea) (0.4.4)\n",
      "Requirement already satisfied: typing-extensions in d:\\software\\python\\lib\\site-packages (from torch>=1.1.0->underthesea) (3.10.0.2)\n",
      "Requirement already satisfied: sacremoses in d:\\software\\python\\lib\\site-packages (from transformers>=3.5.0->underthesea) (0.0.46)\n",
      "Requirement already satisfied: huggingface-hub>=0.0.17 in d:\\software\\python\\lib\\site-packages (from transformers>=3.5.0->underthesea) (0.0.19)\n",
      "Requirement already satisfied: tokenizers<0.11,>=0.10.1 in d:\\software\\python\\lib\\site-packages (from transformers>=3.5.0->underthesea) (0.10.3)\n",
      "Requirement already satisfied: regex!=2019.12.17 in d:\\software\\python\\lib\\site-packages (from transformers>=3.5.0->underthesea) (2021.10.8)\n",
      "Requirement already satisfied: numpy>=1.17 in d:\\software\\python\\lib\\site-packages (from transformers>=3.5.0->underthesea) (1.21.2)\n",
      "Requirement already satisfied: packaging>=20.0 in d:\\software\\python\\lib\\site-packages (from transformers>=3.5.0->underthesea) (21.0)\n",
      "Requirement already satisfied: filelock in d:\\software\\python\\lib\\site-packages (from transformers>=3.5.0->underthesea) (3.3.0)\n",
      "Requirement already satisfied: idna<4,>=2.5 in d:\\software\\python\\lib\\site-packages (from requests->underthesea) (3.2)\n",
      "Requirement already satisfied: urllib3<1.27,>=1.21.1 in d:\\software\\python\\lib\\site-packages (from requests->underthesea) (1.26.7)\n",
      "Requirement already satisfied: charset-normalizer~=2.0.0 in d:\\software\\python\\lib\\site-packages (from requests->underthesea) (2.0.6)\n",
      "Requirement already satisfied: certifi>=2017.4.17 in d:\\software\\python\\lib\\site-packages (from requests->underthesea) (2021.5.30)\n",
      "Requirement already satisfied: threadpoolctl>=2.0.0 in d:\\software\\python\\lib\\site-packages (from scikit-learn->underthesea) (3.0.0)\n",
      "Requirement already satisfied: scipy>=1.1.0 in d:\\software\\python\\lib\\site-packages (from scikit-learn->underthesea) (1.7.1)\n",
      "Requirement already satisfied: pyparsing>=2.0.2 in d:\\software\\python\\lib\\site-packages (from packaging>=20.0->transformers>=3.5.0->underthesea) (2.4.7)\n",
      "Requirement already satisfied: six in d:\\software\\python\\lib\\site-packages (from sacremoses->transformers>=3.5.0->underthesea) (1.16.0)\n",
      "Note: you may need to restart the kernel to use updated packages.\n",
      "Requirement already satisfied: imbalanced-learn in d:\\software\\python\\lib\\site-packages (0.8.1)\n",
      "Requirement already satisfied: numpy>=1.13.3 in d:\\software\\python\\lib\\site-packages (from imbalanced-learn) (1.21.2)\n",
      "Requirement already satisfied: joblib>=0.11 in d:\\software\\python\\lib\\site-packages (from imbalanced-learn) (1.1.0)\n",
      "Requirement already satisfied: scikit-learn>=0.24 in d:\\software\\python\\lib\\site-packages (from imbalanced-learn) (1.0)\n",
      "Requirement already satisfied: scipy>=0.19.1 in d:\\software\\python\\lib\\site-packages (from imbalanced-learn) (1.7.1)\n",
      "Requirement already satisfied: threadpoolctl>=2.0.0 in d:\\software\\python\\lib\\site-packages (from scikit-learn>=0.24->imbalanced-learn) (3.0.0)\n",
      "Note: you may need to restart the kernel to use updated packages.\n"
     ]
    }
   ],
   "source": [
    "%pip install underthesea\n",
    "%pip install imbalanced-learn"
   ]
  },
  {
   "cell_type": "code",
   "execution_count": 27,
   "metadata": {
    "id": "ViM68CaDHvgv"
   },
   "outputs": [],
   "source": [
    "import pandas as pd\n",
    "import zipfile\n",
    "import numpy as np\n",
    "import matplotlib.pyplot as plt\n",
    "import joblib\n",
    "\n",
    "from underthesea import word_tokenize\n",
    "from sklearn.naive_bayes import MultinomialNB\n",
    "from sklearn.feature_extraction.text import CountVectorizer\n",
    "from imblearn.over_sampling import RandomOverSampler"
   ]
  },
  {
   "cell_type": "markdown",
   "metadata": {
    "id": "1Xebt1b-IpNd"
   },
   "source": [
    "# Tạo dataset & tiền xử lý dữ liệu\n",
    "\n",
    "## 1. Giải nén file dataset"
   ]
  },
  {
   "cell_type": "code",
   "execution_count": 28,
   "metadata": {
    "id": "_jcJtCxJIAZe"
   },
   "outputs": [],
   "source": [
    "def extracting_file():\n",
    "    with zipfile.ZipFile('UIT-VSFC.zip', 'r') as zfile:\n",
    "        zfile.extractall('UIT-VSFC/')\n",
    "\n",
    "extracting_file()"
   ]
  },
  {
   "cell_type": "markdown",
   "metadata": {
    "id": "wRgvNPW7kzyf"
   },
   "source": [
    "## 2. Lấy danh sách các stopwords"
   ]
  },
  {
   "cell_type": "code",
   "execution_count": 29,
   "metadata": {
    "colab": {
     "base_uri": "https://localhost:8080/"
    },
    "id": "YogWTmdRrIuh",
    "outputId": "47e177f7-4be7-4b4e-fa02-e8dfe7c608aa"
   },
   "outputs": [
    {
     "name": "stdout",
     "output_type": "stream",
     "text": [
      "1942\n"
     ]
    }
   ],
   "source": [
    "stopwords = []\n",
    "\n",
    "with open('stopwords.txt', 'r+', encoding='utf-8') as f:\n",
    "    for line in f:\n",
    "        stopwords.append(line.strip())\n",
    "\n",
    "print(len(stopwords))"
   ]
  },
  {
   "cell_type": "markdown",
   "metadata": {
    "id": "P3bXe7P4kzyf"
   },
   "source": [
    "## 3. Định nghĩa các hàm hỗ trợ tiền xử lý dữ liệu"
   ]
  },
  {
   "cell_type": "code",
   "execution_count": 30,
   "metadata": {
    "id": "OwQl74HXyZHX"
   },
   "outputs": [],
   "source": [
    "# Tạo pandas frame từ 2 list\n",
    "\n",
    "def create_frame(sentences, labels):\n",
    "    result = {\n",
    "        'sentences': sentences,\n",
    "        'labels': labels\n",
    "    }\n",
    "    return pd.DataFrame(result)"
   ]
  },
  {
   "cell_type": "code",
   "execution_count": 31,
   "metadata": {
    "colab": {
     "base_uri": "https://localhost:8080/",
     "height": 35
    },
    "id": "O_f_hHOqjmgj",
    "outputId": "8253dea6-dbe1-4c08-cebc-fac9f5c8908d"
   },
   "outputs": [
    {
     "data": {
      "text/plain": [
       "'em còn phải học bài colonsad colonsad'"
      ]
     },
     "execution_count": 31,
     "metadata": {},
     "output_type": "execute_result"
    }
   ],
   "source": [
    "# Tiền xử lý: loại bỏ các dấu , . ! ?,\n",
    "# loại bỏ dấu cách thừa và chuyển string về dạng lowercase.\n",
    "\n",
    "def preprocess(sentence):\n",
    "    sentence = sentence.strip()\n",
    "    sentence = sentence.replace(',', '')\n",
    "    sentence = sentence.replace('.', '')\n",
    "    sentence = sentence.replace('?', '')\n",
    "    sentence = sentence.replace('!', '')\n",
    "    sentence = sentence.replace('\"', '')\n",
    "    sentence = sentence.replace('  ', ' ')\n",
    "\n",
    "    specials_ = {\n",
    "        ':)' : 'colonsmile',\n",
    "        ':(' : 'colonsad',\n",
    "        '@@' : 'colonsurprise',\n",
    "        '<3' : 'colonlove',\n",
    "        ':d' : 'colonsmilesmile',\n",
    "        ':3' : 'coloncontemn',\n",
    "        ':v' : 'colonbigsmile',\n",
    "        ':_' : 'coloncc',\n",
    "        ':p' : 'colonsmallsmile',\n",
    "        '>>' : 'coloncolon',\n",
    "        ':\">' : 'colonlovelove',\n",
    "        '^^' : 'colonhihi',\n",
    "        ':' : 'doubledot',\n",
    "        \":'(\" : 'colonsadcolon',\n",
    "        ':’(' : 'colonsadcolon',\n",
    "        ':@' : 'colondoublesurprise',\n",
    "        'v.v' : 'vdotv',\n",
    "        '...' : 'dotdotdot',\n",
    "        '/' : 'fraction',\n",
    "        'c#' : 'cshrap',\n",
    "    }\n",
    "\n",
    "    for key in specials_.keys():\n",
    "        sentence = sentence.replace(key, specials_[key])\n",
    "    return sentence.lower().strip()\n",
    "\n",
    "preprocess('Em còn phải học bài :( :(')"
   ]
  },
  {
   "cell_type": "markdown",
   "metadata": {
    "id": "krLLvOR3kzyg"
   },
   "source": [
    "## 4. Tạo dataset"
   ]
  },
  {
   "cell_type": "code",
   "execution_count": 32,
   "metadata": {
    "id": "2NabcjLwi1JZ"
   },
   "outputs": [],
   "source": [
    "train_sentences, train_labels = [], []\n",
    "\n",
    "with open('UIT-VSFC/UIT-VSFC/train/sents.txt', 'r+', encoding = 'utf-8') as f:\n",
    "    for line in f:\n",
    "        train_sentences.append(preprocess(line))\n",
    "\n",
    "with open('UIT-VSFC/UIT-VSFC/dev/sents.txt', 'r+', encoding = 'utf-8') as f:\n",
    "    for line in f:\n",
    "        train_sentences.append(preprocess(line))\n",
    "\n",
    "with open('UIT-VSFC/UIT-VSFC/train/sentiments.txt', 'r+', encoding = 'utf-8') as f:\n",
    "    for line in f:\n",
    "        train_labels.append(int(line.strip()))\n",
    "\n",
    "with open('UIT-VSFC/UIT-VSFC/dev/sentiments.txt', 'r+', encoding = 'utf-8') as f:\n",
    "    for line in f:\n",
    "        train_labels.append(int(line.strip()))"
   ]
  },
  {
   "cell_type": "code",
   "execution_count": 33,
   "metadata": {
    "colab": {
     "base_uri": "https://localhost:8080/",
     "height": 276
    },
    "id": "ZzmulSPo-ykG",
    "outputId": "1bf0d8d0-43e5-4268-a9bb-cd72b3f5deb6"
   },
   "outputs": [
    {
     "data": {
      "image/png": "[encoded data removed]",
      "text/plain": [
       "<Figure size 432x288 with 1 Axes>"
      ]
     },
     "metadata": {
      "needs_background": "light"
     },
     "output_type": "display_data"
    }
   ],
   "source": [
    "train_dataset = create_frame(train_sentences, train_labels)\n",
    "count = train_dataset['labels'].value_counts()\n",
    "count.plot.bar()\n",
    "plt.ylabel('Label')\n",
    "plt.xlabel('Total train samples')\n",
    "plt.show()"
   ]
  },
  {
   "cell_type": "code",
   "execution_count": 34,
   "metadata": {
    "id": "4fTMrxITkHqU"
   },
   "outputs": [],
   "source": [
    "test_sentences, test_labels = [], []\n",
    "\n",
    "with open('UIT-VSFC/UIT-VSFC/test/sents.txt', 'r+', encoding = 'utf-8') as f:\n",
    "    for line in f:\n",
    "        test_sentences.append(preprocess(line))\n",
    "\n",
    "with open('UIT-VSFC/UIT-VSFC/test/sentiments.txt', 'r+', encoding = 'utf-8') as f:\n",
    "    for line in f:\n",
    "        test_labels.append(int(line.strip()))"
   ]
  },
  {
   "cell_type": "code",
   "execution_count": 35,
   "metadata": {
    "colab": {
     "base_uri": "https://localhost:8080/",
     "height": 276
    },
    "id": "l4RvRHvY-4Ky",
    "outputId": "4a9b3276-6880-4eb9-fb1d-6f58da9baba3"
   },
   "outputs": [
    {
     "data": {
      "image/png": "[encoded data removed]",
      "text/plain": [
       "<Figure size 432x288 with 1 Axes>"
      ]
     },
     "metadata": {
      "needs_background": "light"
     },
     "output_type": "display_data"
    }
   ],
   "source": [
    "test_dataset = create_frame(test_sentences, test_labels)\n",
    "test_dataset['labels'].value_counts()\n",
    "count = test_dataset['labels'].value_counts()\n",
    "count.plot.bar()\n",
    "plt.ylabel('Label')\n",
    "plt.xlabel('Total samples')\n",
    "plt.show()\n"
   ]
  },
  {
   "cell_type": "markdown",
   "metadata": {
    "id": "jACIUVQlkzyi"
   },
   "source": [
    "## Nhận xét nhanh\n",
    "Qua các biểu đồ trên, ta dễ dàng nhận thấy dataset này không cân bằng: tỉ lệ label 0 (neutral) quá nhỏ so với các label còn lại.\n",
    "\n",
    "Để giải quyết, ta sẽ sử dụng kĩ thuật Oversampling."
   ]
  },
  {
   "cell_type": "code",
   "execution_count": 36,
   "metadata": {
    "id": "Ki9AojQvBeXh"
   },
   "outputs": [],
   "source": [
    "oversample = RandomOverSampler(sampling_strategy = 'minority')"
   ]
  },
  {
   "cell_type": "markdown",
   "metadata": {
    "id": "uMs-NNpckzyi"
   },
   "source": [
    "# Train model"
   ]
  },
  {
   "cell_type": "code",
   "execution_count": 37,
   "metadata": {
    "id": "7b9uWMmdkzyi"
   },
   "outputs": [],
   "source": [
    "# Hàm tách từ, dùng word_tokenize của underthesea\n",
    "def tokenize(sentence):\n",
    "    return word_tokenize(sentence, format = 'word')"
   ]
  },
  {
   "cell_type": "code",
   "execution_count": 38,
   "metadata": {
    "id": "vJDpVmoikzyi"
   },
   "outputs": [],
   "source": [
    "# Chuyển câu tiếng Việt về vector, sử dụng CountVectorizer của sklearn\n",
    "# với các tham số là danh sách stopwords tiếng Việt \n",
    "# và tokenizer tách từ tiếng Việt\n",
    "\n",
    "vectorizer = CountVectorizer(\n",
    "    stop_words = stopwords,\n",
    "    tokenizer = tokenize\n",
    ")"
   ]
  },
  {
   "cell_type": "code",
   "execution_count": 39,
   "metadata": {
    "id": "-MAq8HYxxu6h"
   },
   "outputs": [],
   "source": [
    "X = vectorizer.fit_transform(train_sentences)\n",
    "y = train_labels\n",
    "\n",
    "X_test = vectorizer.transform(test_sentences)\n",
    "y_test = test_labels"
   ]
  },
  {
   "cell_type": "code",
   "execution_count": 40,
   "metadata": {
    "id": "4b8Afabq0FBY"
   },
   "outputs": [],
   "source": [
    "# Oversampling X và y là training dataset.\n",
    "X_over, y_over = oversample.fit_resample(X, y)"
   ]
  },
  {
   "cell_type": "code",
   "execution_count": 41,
   "metadata": {
    "colab": {
     "base_uri": "https://localhost:8080/"
    },
    "id": "OITtzw8ukzyj",
    "outputId": "3efb2ee2-c5fa-4061-bb02-467b8aa3461e"
   },
   "outputs": [
    {
     "data": {
      "text/plain": [
       "['vectorizer.joblib']"
      ]
     },
     "execution_count": 41,
     "metadata": {},
     "output_type": "execute_result"
    }
   ],
   "source": [
    "# Dùng giải thuật Naive Bayes để train model.\n",
    "model = MultinomialNB()\n",
    "model.fit(X_over, y_over)\n",
    "\n",
    "joblib.dump(model, 'sentiment.joblib')\n",
    "joblib.dump(vectorizer, 'vectorizer.joblib')"
   ]
  },
  {
   "cell_type": "code",
   "execution_count": 42,
   "metadata": {
    "id": "8FRyy_X-1BPF"
   },
   "outputs": [],
   "source": [
    "# Load model\n",
    "model_ = joblib.load('sentiment.joblib')\n",
    "vectorizer_ = joblib.load('vectorizer.joblib')"
   ]
  },
  {
   "cell_type": "code",
   "execution_count": 43,
   "metadata": {
    "colab": {
     "base_uri": "https://localhost:8080/"
    },
    "id": "lJ1j9Yy0kzyk",
    "outputId": "c40e7278-62ff-490b-e3d1-875c45132ea4"
   },
   "outputs": [
    {
     "name": "stdout",
     "output_type": "stream",
     "text": [
      "0.7485786481364498\n"
     ]
    }
   ],
   "source": [
    "# Model score.\n",
    "print(model.score(X_test, y_test))"
   ]
  },
  {
   "cell_type": "markdown",
   "metadata": {
    "id": "QOLJMqHjkzyk"
   },
   "source": [
    "# Demo"
   ]
  },
  {
   "cell_type": "code",
   "execution_count": 44,
   "metadata": {
    "colab": {
     "base_uri": "https://localhost:8080/"
    },
    "id": "3cib-jfJ1Fvo",
    "outputId": "73403b74-a418-4904-e0a5-3c49bf20d258"
   },
   "outputs": [
    {
     "name": "stdout",
     "output_type": "stream",
     "text": [
      "Thầy dạy rất hay 2\n",
      "Không ai hướng dẫn, toàn phải tự lực cánh sinh 0\n",
      "Người lái đò sông Đà 1\n",
      "Thầy toàn đọc slide, không giảng bài 0\n",
      "Phí tiền khi học lớp này 0\n",
      "Anh hùng vũ trụ Phạm Tuân 1\n",
      "Học phí quá cao, cô lại dạy dở, không ai hỗ trợ 0\n",
      "Trợ giảng rất nhiệt tình 2\n",
      "Thầy tận tình giúp đỡ sinh viên 2\n",
      "Tuyên ngôn độc lập quảng trường Ba Đình 1\n"
     ]
    }
   ],
   "source": [
    "sentences = [\n",
    "    'Thầy dạy rất hay',\n",
    "    'Không ai hướng dẫn, toàn phải tự lực cánh sinh',\n",
    "    'Người lái đò sông Đà',\n",
    "    'Thầy toàn đọc slide, không giảng bài',\n",
    "    'Phí tiền khi học lớp này',\n",
    "    'Anh hùng vũ trụ Phạm Tuân',\n",
    "    'Học phí quá cao, cô lại dạy dở, không ai hỗ trợ',\n",
    "    'Trợ giảng rất nhiệt tình',\n",
    "    'Thầy tận tình giúp đỡ sinh viên',\n",
    "    'Tuyên ngôn độc lập quảng trường Ba Đình'\n",
    "]\n",
    "\n",
    "for s in sentences:\n",
    "    predict_ = model_.predict(vectorizer_.transform([preprocess(s)]))\n",
    "    \n",
    "    print(s, predict_[0])"
   ]
  }
 ],
 "metadata": {
  "colab": {
   "collapsed_sections": [
    "EMTwNxPLkzyb",
    "krLLvOR3kzyg",
    "jACIUVQlkzyi",
    "uMs-NNpckzyi",
    "QOLJMqHjkzyk"
   ],
   "include_colab_link": true,
   "name": "danh_gia_mon_hoc_bayes.ipynb",
   "provenance": []
  },
  "kernelspec": {
   "display_name": "Python 3 (ipykernel)",
   "language": "python",
   "name": "python3"
  },
  "language_info": {
   "codemirror_mode": {
    "name": "ipython",
    "version": 3
   },
   "file_extension": ".py",
   "mimetype": "text/x-python",
   "name": "python",
   "nbconvert_exporter": "python",
   "pygments_lexer": "ipython3",
   "version": "3.9.7"
  }
 },
 "nbformat": 4,
 "nbformat_minor": 1
}
