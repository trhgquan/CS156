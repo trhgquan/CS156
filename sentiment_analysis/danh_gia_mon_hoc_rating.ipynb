{
  "nbformat": 4,
  "nbformat_minor": 0,
  "metadata": {
    "colab": {
      "name": "danh_gia_mon_hoc_rating.ipynb",
      "provenance": [],
      "collapsed_sections": [],
      "authorship_tag": "ABX9TyON8U8KPPeHSZlWe1eR+aLM",
      "include_colab_link": true
    },
    "kernelspec": {
      "name": "python3",
      "display_name": "Python 3"
    },
    "language_info": {
      "name": "python"
    }
  },
  "cells": [
    {
      "cell_type": "markdown",
      "metadata": {
        "id": "view-in-github",
        "colab_type": "text"
      },
      "source": [
        "<a href=\"https://colab.research.google.com/github/trhgquan/CS156/blob/main/sentiment_analysis/danh_gia_mon_hoc_rating.ipynb\" target=\"_parent\"><img src=\"https://colab.research.google.com/assets/colab-badge.svg\" alt=\"Open In Colab\"/></a>"
      ]
    },
    {
      "cell_type": "code",
      "metadata": {
        "colab": {
          "base_uri": "https://localhost:8080/"
        },
        "id": "gUlGNpPrHXmo",
        "outputId": "adf99a00-b69f-4eca-ce47-75879a10aaff"
      },
      "source": [
        "from google.colab import drive\n",
        "drive.mount('/gdrive')"
      ],
      "execution_count": 3,
      "outputs": [
        {
          "output_type": "stream",
          "name": "stdout",
          "text": [
            "Drive already mounted at /gdrive; to attempt to forcibly remount, call drive.mount(\"/gdrive\", force_remount=True).\n"
          ]
        }
      ]
    },
    {
      "cell_type": "markdown",
      "metadata": {
        "id": "h3Zg4jGJIlw_"
      },
      "source": [
        "## Importing libraries"
      ]
    },
    {
      "cell_type": "code",
      "metadata": {
        "id": "45QRYPddOd4k"
      },
      "source": [
        "# !pip install underthesea"
      ],
      "execution_count": 4,
      "outputs": []
    },
    {
      "cell_type": "code",
      "metadata": {
        "id": "ViM68CaDHvgv"
      },
      "source": [
        "import pandas as pd\n",
        "import zipfile\n",
        "from underthesea import word_tokenize\n",
        "\n",
        "from sklearn import svm\n",
        "from sklearn.feature_extraction.text import TfidfVectorizer\n",
        "from sklearn.linear_model import LogisticRegression\n",
        "from sklearn.metrics import plot_roc_curve\n",
        "from sklearn.metrics import classification_report\n",
        "import joblib"
      ],
      "execution_count": 58,
      "outputs": []
    },
    {
      "cell_type": "markdown",
      "metadata": {
        "id": "1Xebt1b-IpNd"
      },
      "source": [
        "## Extracting and creating .csv dataset"
      ]
    },
    {
      "cell_type": "code",
      "metadata": {
        "id": "_jcJtCxJIAZe"
      },
      "source": [
        "# !cp \"/content/drive/MyDrive/Colab Notebooks/danh_gia_mon_hoc_rating/UIT-VSFC.zip\" \"/content/UIT-VSFC.zip\"\n",
        "\n",
        "def extracting_file():\n",
        "    with zipfile.ZipFile('/content/UIT-VSFC.zip', 'r') as zfile:\n",
        "        zfile.extractall('/content/data')\n",
        "\n",
        "# extracting_file()"
      ],
      "execution_count": 6,
      "outputs": []
    },
    {
      "cell_type": "code",
      "metadata": {
        "id": "lssEhCqhglT1"
      },
      "source": [
        "def create_dataframe(text, label):\n",
        "    data = {'text': text, 'label': label}\n",
        "    df = pd.DataFrame(data)\n",
        "    return df"
      ],
      "execution_count": 7,
      "outputs": []
    },
    {
      "cell_type": "code",
      "metadata": {
        "id": "T6WxXroPIkX5",
        "colab": {
          "base_uri": "https://localhost:8080/"
        },
        "outputId": "68dc5265-b6c0-4e51-a0cd-587f79125497"
      },
      "source": [
        "train_dataset = []\n",
        "train_label = []\n",
        "\n",
        "with open('/content/data/UIT-VSFC/train/sents.txt', \n",
        "          'r+', encoding = 'utf-8') as f:\n",
        "    for line in f:\n",
        "        train_dataset.append(line.rstrip())\n",
        "\n",
        "with open('/content/data/UIT-VSFC/train/sentiments.txt', \n",
        "          'r+', encoding = 'utf-8') as f:\n",
        "    for line in f:\n",
        "        train_label.append(int(line.rstrip()))\n",
        "\n",
        "print(len(train_dataset), len(train_label))\n",
        "\n",
        "# Framing training dataset\n",
        "train_data = create_dataframe(train_dataset, train_label)"
      ],
      "execution_count": 8,
      "outputs": [
        {
          "output_type": "stream",
          "name": "stdout",
          "text": [
            "11426 11426\n"
          ]
        }
      ]
    },
    {
      "cell_type": "code",
      "metadata": {
        "colab": {
          "base_uri": "https://localhost:8080/"
        },
        "id": "b5wg_JTxX910",
        "outputId": "d8764ec4-859e-44ba-db20-d3580b915fb0"
      },
      "source": [
        "print(train_data)"
      ],
      "execution_count": 9,
      "outputs": [
        {
          "output_type": "stream",
          "name": "stdout",
          "text": [
            "                                                    text  label\n",
            "0                              slide giáo trình đầy đủ .      2\n",
            "1         nhiệt tình giảng dạy , gần gũi với sinh viên .      2\n",
            "2                   đi học đầy đủ full điểm chuyên cần .      0\n",
            "3      chưa áp dụng công nghệ thông tin và các thiết ...      0\n",
            "4      thầy giảng bài hay , có nhiều bài tập ví dụ ng...      2\n",
            "...                                                  ...    ...\n",
            "11421  chỉ vì môn game mà em học hai lần mà không qua...      0\n",
            "11422                               em cảm ơn cô nhiều .      2\n",
            "11423                           giao bài tập quá nhiều .      0\n",
            "11424               giáo viên dạy dễ hiểu , nhiệt tình .      2\n",
            "11425  gói gọn doubledot hay , tận tình , phù hợp với...      2\n",
            "\n",
            "[11426 rows x 2 columns]\n"
          ]
        }
      ]
    },
    {
      "cell_type": "code",
      "metadata": {
        "id": "8gTFwKJRZoVl"
      },
      "source": [
        "test_dataset = []\n",
        "test_label = []\n",
        "\n",
        "with open('/content/data/UIT-VSFC/test/sents.txt', \n",
        "          'r+', encoding = 'utf-8') as f:\n",
        "    for line in f:\n",
        "        test_dataset.append(line.rstrip())\n",
        "\n",
        "with open('/content/data/UIT-VSFC/test/sentiments.txt', \n",
        "          'r+', encoding = 'utf-8') as f:\n",
        "    for line in f:\n",
        "        test_label.append(int(line.rstrip()))\n",
        "\n",
        "test_data = create_dataframe(test_dataset, test_label)"
      ],
      "execution_count": 10,
      "outputs": []
    },
    {
      "cell_type": "code",
      "metadata": {
        "colab": {
          "base_uri": "https://localhost:8080/"
        },
        "id": "yEA2APEed-12",
        "outputId": "06004adc-2ff7-4810-cd6b-aea2039cf92c"
      },
      "source": [
        "print(test_data)"
      ],
      "execution_count": 70,
      "outputs": [
        {
          "output_type": "stream",
          "name": "stdout",
          "text": [
            "                                                   text  label\n",
            "0                                nói tiếng anh lưu_loát      2\n",
            "1                                giáo_viên rất vui_tính      2\n",
            "2                                         cô max có tâm      2\n",
            "3                              giảng bài thu_hút dí_dỏm      2\n",
            "4     giáo_viên không giảng_dạy kiến_thức hướng_dẫn ...      0\n",
            "...                                                 ...    ...\n",
            "3161  các slide khó hiểu ngôn_ngữ trong slide phức_t...      0\n",
            "3162                   giáo_viên giảng_dạy có tâm_huyết      2\n",
            "3163                      chia_sẻ cho em nhiều điều hay      2\n",
            "3164                                   em tiếp_thu chậm      0\n",
            "3165  em có học ở một trung_tâm tiếng anh ở ngoài tr...      1\n",
            "\n",
            "[3166 rows x 2 columns]\n"
          ]
        }
      ]
    },
    {
      "cell_type": "code",
      "metadata": {
        "id": "Pq1DeWrof8FH"
      },
      "source": [
        "emb = None\n",
        "\n",
        "def embedding(train, test):\n",
        "    global emb\n",
        "    emb = TfidfVectorizer(\n",
        "        min_df = 5,\n",
        "        max_df = 0.8,\n",
        "        max_features = 3000,\n",
        "        sublinear_tf = True\n",
        "    )\n",
        "    emb.fit(train)\n",
        "    \n",
        "    train = emb.transform(train)\n",
        "    test = emb.transform(test)\n",
        "\n",
        "    joblib.dump(emb, 'tfidf.pkl')\n",
        "    return train, test"
      ],
      "execution_count": 12,
      "outputs": []
    },
    {
      "cell_type": "code",
      "metadata": {
        "id": "36jzZASUhg6a"
      },
      "source": [
        "def tokenizer(sentence):\n",
        "    return word_tokenize(sentence, format = 'text')\n",
        "\n",
        "def standardlize(sentence):\n",
        "    return sentence.replace('.', '').replace(',', '').replace('!', '').replace('  ', ' ')"
      ],
      "execution_count": 27,
      "outputs": []
    },
    {
      "cell_type": "code",
      "metadata": {
        "id": "DQ7uGtJ1hxol"
      },
      "source": [
        "train_data['text'] = train_data.text.apply(tokenizer)\n",
        "train_data['text'] = train_data.text.apply(standardlize)\n",
        "test_data['text'] = test_data.text.apply(tokenizer)\n",
        "test_data['text'] = test_data.text.apply(standardlize)"
      ],
      "execution_count": 28,
      "outputs": []
    },
    {
      "cell_type": "code",
      "metadata": {
        "id": "bNLRv02ZiFSB"
      },
      "source": [
        "X_train, X_test, y_train, y_test = train_data['text'], test_data['text'], train_data['label'], test_data['label']"
      ],
      "execution_count": 29,
      "outputs": []
    },
    {
      "cell_type": "code",
      "metadata": {
        "id": "JKkXOcddj8c7"
      },
      "source": [
        "X_train, X_test = embedding(X_train, X_test)"
      ],
      "execution_count": 32,
      "outputs": []
    },
    {
      "cell_type": "code",
      "metadata": {
        "id": "mw5E3ZwdkBdP"
      },
      "source": [
        "# model = svm.SVC(kernel = 'linear', C = 1)\n",
        "model = LogisticRegression()\n",
        "model.fit(X_train, y_train)\n",
        "y_predict = model.predict(X_test)"
      ],
      "execution_count": 55,
      "outputs": []
    },
    {
      "cell_type": "code",
      "metadata": {
        "colab": {
          "base_uri": "https://localhost:8080/"
        },
        "id": "1l-U9R7wkVaV",
        "outputId": "7cec3197-057a-4923-a5c2-f286e0ec7c29"
      },
      "source": [
        "print(classification_report(y_test, y_predict))"
      ],
      "execution_count": 59,
      "outputs": [
        {
          "output_type": "stream",
          "name": "stdout",
          "text": [
            "              precision    recall  f1-score   support\n",
            "\n",
            "           0       0.86      0.95      0.90      1409\n",
            "           1       0.63      0.07      0.13       167\n",
            "           2       0.91      0.91      0.91      1590\n",
            "\n",
            "    accuracy                           0.88      3166\n",
            "   macro avg       0.80      0.64      0.65      3166\n",
            "weighted avg       0.87      0.88      0.87      3166\n",
            "\n"
          ]
        }
      ]
    },
    {
      "cell_type": "code",
      "metadata": {
        "colab": {
          "base_uri": "https://localhost:8080/"
        },
        "id": "ZKdymdTMlrxQ",
        "outputId": "6099beab-060b-426d-cf07-a94729e859ee"
      },
      "source": [
        "example = [\n",
        "    ['thầy dạy rất dễ hiểu'],\n",
        "    ['thầy toàn giải bài tập , không giảng gì cả'],\n",
        "    ['cơ sở vật chất rất kém'],\n",
        "    ['cảm ơn thầy rất nhiều'],\n",
        "    ['thầy là phù thủy công nghệ'],\n",
        "]\n",
        "\n",
        "for e in example:\n",
        "    test = emb.transform(e)\n",
        "    print(model.predict(test))"
      ],
      "execution_count": 79,
      "outputs": [
        {
          "output_type": "stream",
          "name": "stdout",
          "text": [
            "[2]\n",
            "[0]\n",
            "[0]\n",
            "[2]\n",
            "[2]\n"
          ]
        }
      ]
    }
  ]
}